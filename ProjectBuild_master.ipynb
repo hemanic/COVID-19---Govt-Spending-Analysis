{
 "cells": [
  {
   "cell_type": "markdown",
   "metadata": {},
   "source": [
    "## CS 5010 Final Project\n",
    "Date: 7 August 2020\n",
    "\n",
    "Project members: \n",
    "\n",
    "Aubrey Brockmiller (alb3cb)\n",
    "\n",
    "Hemani Choksi (hc8nd)\n",
    "\n",
    "Bryan DeMarcy (bd2qn)\n",
    "\n",
    "Mike Wetklow (mw8hu)"
   ]
  },
  {
   "cell_type": "markdown",
   "metadata": {},
   "source": [
    "### Data Sets\n",
    "\n",
    "Below are the data sources we used for our project.\n",
    "\n",
    "Census population data\n",
    "\n",
    "Source:https://www.census.gov/data/tables/time-series/demo/popest/2010s-state-total.html\n",
    "\n",
    "List of Us Governors\n",
    "\n",
    "Source:https://en.m.wikipedia.org/wiki/List_of_United_States_governors\n",
    "\n",
    "State Abbreviations\n",
    "\n",
    "Source: https://worldpopulationreview.com/states/state-abbreviations\n",
    "\n",
    "HHS Spending Data\n",
    "\n",
    "Source: https://taggs.hhs.gov/coronavirus\n",
    "\n",
    "COVID-19 Data (**Note:** The COVID-19 data set ranges from the start of the pandemic up to June 30th, 2020)\n",
    "\n",
    "Source: https://covidtracking.com/data/download"
   ]
  },
  {
   "cell_type": "code",
   "execution_count": null,
   "metadata": {},
   "outputs": [],
   "source": [
    "import pandas as pd\n",
    "import numpy as np\n",
    "import matplotlib.pyplot as plot\n",
    "from functools import reduce\n",
    "import plotly.graph_objects as go\n",
    "import folium\n",
    "import os\n",
    "import pygal\n",
    "from pygal.style import Style"
   ]
  },
  {
   "cell_type": "markdown",
   "metadata": {},
   "source": [
    "### 1. Data Wrangling"
   ]
  },
  {
   "cell_type": "code",
   "execution_count": null,
   "metadata": {},
   "outputs": [],
   "source": [
    "#Read the csv files into pandas\n",
    "population = pd.read_csv(r'rawData/populationData.csv')\n",
    "spendingHHS = pd.read_csv(r'rawData/HHSspending.csv')\n",
    "governors = pd.read_csv (r'rawData/govAffiliation.csv')\n",
    "abbreviations = pd.read_csv(r'rawData/stateAbbreviations.csv')\n",
    "covid = pd.read_csv(r'rawData/COVIDdata.csv')"
   ]
  },
  {
   "cell_type": "code",
   "execution_count": null,
   "metadata": {},
   "outputs": [],
   "source": [
    "#Reduce the dataframes to only the columns we need for our analysis\n",
    "population = pd.DataFrame(population, columns= ['NAME', 'POPESTIMATE2019'])\n",
    "abbreviations = pd.DataFrame(abbreviations, columns = ['State', 'Code'])\n",
    "covid = pd.DataFrame(covid, columns = ['date', 'state', 'positive', \n",
    "                                       'hospitalizedCurrently', 'hospitalizedCumulative', \n",
    "                                       'recovered', 'death', 'positiveIncrease', 'totalTestResults'])"
   ]
  },
  {
   "cell_type": "code",
   "execution_count": null,
   "metadata": {},
   "outputs": [],
   "source": [
    "#Rename columns to get rid of the multiple variations of the same column and to be more descriptive\n",
    "population = population.rename(columns={'NAME': 'State', 'POPESTIMATE2019': 'population2019'})\n",
    "spendingHHS = spendingHHS.rename(columns={'State':'stateCode', 'Award_Amount':'Amount'})\n",
    "governors = governors.rename(columns={'state': 'stateCode'})\n",
    "abbreviations = abbreviations.rename(columns={'Code': 'stateCode'})\n",
    "covid = covid.rename(columns={'state': 'stateCode'})"
   ]
  },
  {
   "cell_type": "code",
   "execution_count": null,
   "metadata": {},
   "outputs": [],
   "source": [
    "#Reformat the date column in the covid dataframe and sort by date\n",
    "covid['date'] = pd.to_datetime(covid['date'].astype(str), format='%Y%m%d')\n",
    "\n",
    "#Use grouping to find the total HHS spending by state and save it as a dataframe\n",
    "#The dataframe was given a new name so we could use the spendingHHS dataframe again in Section 4\n",
    "funding = pd.concat([spendingHHS.groupby(['stateCode'])['Amount'].sum()], axis=1)"
   ]
  },
  {
   "cell_type": "code",
   "execution_count": null,
   "metadata": {
    "scrolled": true
   },
   "outputs": [],
   "source": [
    "#Merge the population and abbreviations dataframes so population contains state names\n",
    "population = pd.merge(left=abbreviations, right=population, left_on='State', right_on='State')\n",
    "\n",
    "#Create a list of dataframes to merge\n",
    "data_frames = [governors, population, funding]\n",
    "\n",
    "#Merge the list of dataframes\n",
    "df_merged = reduce(lambda left,right: pd.merge(left,right,on=['stateCode']), data_frames)\n",
    "\n",
    "#Merge the abbreviations and COVID dataframes so the COVID data contains state names and sort by date\n",
    "covid = pd.merge(left=abbreviations, right=covid, left_on='stateCode', right_on='stateCode')\n",
    "covid = covid.sort_values(by=['date'], ascending=True)"
   ]
  },
  {
   "cell_type": "code",
   "execution_count": null,
   "metadata": {},
   "outputs": [],
   "source": [
    "#Check dataframes by printing them to csv files\n",
    "df_merged.to_csv(r'tidyData/df_merged.csv', index=False)\n",
    "covid.to_csv(r'tidyData/covid.csv', index=False)"
   ]
  },
  {
   "cell_type": "markdown",
   "metadata": {},
   "source": [
    "### 2. Overall Analysis on the 50 US States\n",
    "\n",
    "This set of code looks at HHS spending and COVID-19 data for the entire United States."
   ]
  },
  {
   "cell_type": "code",
   "execution_count": null,
   "metadata": {},
   "outputs": [],
   "source": [
    "#lets print the States where they spent more than $150 per person \n",
    "df_merged['perCap']=(df_merged['Amount'] / df_merged['population2019']).round(decimals=2)\n",
    "print(df_merged.loc[df_merged['perCap'] > 150].sort_values(by=['perCap'],ascending=False).to_string(index=False))"
   ]
  },
  {
   "cell_type": "code",
   "execution_count": null,
   "metadata": {},
   "outputs": [],
   "source": [
    "#printing states that spent less than $55 per person\n",
    "print(df_merged.loc[df_merged['perCap'] < 55].sort_values(by=['perCap'],ascending=True).to_string(index=False))"
   ]
  },
  {
   "cell_type": "code",
   "execution_count": null,
   "metadata": {},
   "outputs": [],
   "source": [
    "#now lets print states that have the highest amount of recoveries\n",
    "print(covid.loc[(covid['date'] == '6/30/2020') & (covid['recovered'] > 70000)])"
   ]
  },
  {
   "cell_type": "code",
   "execution_count": null,
   "metadata": {},
   "outputs": [],
   "source": [
    "#print states that currently have less than 100 people hospitalized\n",
    "covid.loc[(covid['date'] == '6/30/2020') & (covid['hospitalizedCurrently']<100)] \\\n",
    "    .sort_values(by=['hospitalizedCurrently'],ascending=True)"
   ]
  },
  {
   "cell_type": "code",
   "execution_count": null,
   "metadata": {},
   "outputs": [],
   "source": [
    "#print states that haven't had any new positive cases in the past week\n",
    "covid.loc[(covid['date'] > '6/23/2020') & (covid['date'] <= '6/30/2020') \\\n",
    "    & (covid['positiveIncrease'] == 0)]"
   ]
  },
  {
   "cell_type": "code",
   "execution_count": null,
   "metadata": {},
   "outputs": [],
   "source": [
    "#Choropleth map of the US based on HHS spending\n",
    "\n",
    "#Create a copy of our df_merged dataframe so we can convert everything in the copy to a string\n",
    "df_mergedCopy = df_merged.copy()\n",
    "\n",
    "#Convert columns to strings\n",
    "for col in df_mergedCopy.columns:\n",
    "    df_mergedCopy[col] = df_mergedCopy[col].astype(str)\n",
    "\n",
    "#Text that will be displayed when hovering over each state\n",
    "df_mergedCopy['text'] = df_mergedCopy['stateCode'] + '<br>' + \\\n",
    "    'Governor Affiliation: ' + df_mergedCopy['govAffiliation']  + '<br>' + \\\n",
    "    'Governor: ' + df_mergedCopy['govName'] + '<br>' + \\\n",
    "    'Population: ' + df_mergedCopy['population2019'] + '<br>' + \\\n",
    "    'Money per Person: $ ' + df_mergedCopy['perCap']\n",
    "\n",
    "fig = go.Figure(data=go.Choropleth(\n",
    "    locations=df_mergedCopy['stateCode'], # Spatial coordinates\n",
    "    z = df_mergedCopy['Amount'].astype(float), # Data to be color-coded\n",
    "    locationmode = 'USA-states', # set of locations match entries in `locations`\n",
    "    text=df_mergedCopy['text'], # hover text\n",
    "    colorscale = 'Greens',\n",
    "    colorbar_title = \"Millions USD\",\n",
    "))\n",
    "\n",
    "fig.update_layout(\n",
    "    title_text = 'COVID-19 HHS Spending',\n",
    "    geo_scope='usa', # limit map scope to USA\n",
    ")\n",
    "\n",
    "fig.show()"
   ]
  },
  {
   "cell_type": "markdown",
   "metadata": {},
   "source": [
    "### 3. User Input Query and Analysis\n",
    "\n",
    "This next section allows the user to input a list of states for comparative analysis. Only states from the user input will be shown so HHS spending and COVID-19 data can be compared between states.\n",
    "\n",
    "**Note:** The layout and figure sizes were set to only compare a handful of states at once. The user can input \"all\" to compare all 50 states simultaneously; however, the visuals will be very crowded and difficult to read."
   ]
  },
  {
   "cell_type": "code",
   "execution_count": null,
   "metadata": {},
   "outputs": [],
   "source": [
    "#Set the index in the df_merged dataframe for lookup purposes\n",
    "df_merged = df_merged.set_index('stateCode')"
   ]
  },
  {
   "cell_type": "code",
   "execution_count": null,
   "metadata": {},
   "outputs": [],
   "source": [
    "#This class will be used for data visualizations and user input\n",
    "class Data:\n",
    "    \n",
    "    def __init__(self, states=None): #Constructor\n",
    "        self.df = pd.DataFrame() #Create an empty dataframe for each instance\n",
    "        if states is None: \n",
    "            #Ask user for a list of state abbreviations or 'all' to represent all 50 states\n",
    "            self.states = input(\"Enter a list of state abbreviations separated by a space or type 'all' without quotes to compare all 50 states: \")\n",
    "        elif states == False: #This if statement allows us to create an empty dataframe later without being prompted for input\n",
    "            self.states = [] \n",
    "        else: #This allows the user to input states as a list when creating the instance; however, we won't use it this way\n",
    "            self.states = states\n",
    "        \n",
    "    def userStates(self): #Method for user input\n",
    "        #Make the userList global so we can call it later\n",
    "        global userList\n",
    "        \n",
    "        #If the user inputs \"all\", the list will include all state abbreviations\n",
    "        if self.states == \"all\":\n",
    "            userList = df_merged.index.values.tolist()\n",
    "            print(\"Thank you for your input. We will show you the data for all 50 states!\")\n",
    "        \n",
    "        #If the user does not input \"all\", split the input by space\n",
    "        else:\n",
    "            userList = self.states.split()\n",
    "            try:\n",
    "                test = userList[0] #Test to see if the list is empty\n",
    "                for state in userList:\n",
    "                    testList = []\n",
    "                    testList.append(df_merged.loc[state].values[0:(len(df_merged.columns)+1)]) #Search the df_merged dataframe and append every row based on the state in the user list\n",
    "                print(\"Thank you for your input. We will show you the data for the states listed below. \\n\", userList)        \n",
    "            \n",
    "            except IndexError: #Prints an error if the user enters an empty list\n",
    "                return print(\"ERROR: You did not enter a state abbreviation. Please rerun the code using at least one of the state abbreviations below. \\n\", df_merged[[\"State\"]],\"\\n\")\n",
    "                \n",
    "            except KeyError: #Prints an error if the user does not enter a valid state abbreviation\n",
    "                return print(\"ERROR: \",str(state),\" is not one of the state abbreviations. Please rerun the code using any combination of the state abbreviations below. \\n\", df_merged[[\"State\"]],\"\\n\")\n",
    "                        \n",
    "    #This method is used to create our line, bar, and pie charts\n",
    "    #Required arguments are ones that appear in all plot types, otherwise they are optional.\n",
    "    def userPlot(self, plotType, title, y, ylabel, legendIndex, x=None, xlabel=None, \n",
    "                 axis=None, legendlabel=None, size=None, rotation=None):\n",
    "        \n",
    "        if plotType == \"line\": #Create a line plot using the specified dataframe\n",
    "            self.df.plot(kind=plotType, x=x, y=y, ax=axes[axis], legend=legendIndex, \n",
    "                         label=self.df.iloc[0][legendlabel])\n",
    "            axes[axis].xaxis.set_label_text(xlabel)\n",
    "            axes[axis].yaxis.set_label_text(ylabel)\n",
    "            axes[axis].set_title(title)\n",
    "        \n",
    "        elif plotType == \"bar\": #Create a bar plot using the specified dataframe\n",
    "            self.df.plot.bar(x, y, rot=rotation, legend=legendIndex, figsize=(size))\n",
    "            plot.xlabel(xlabel)\n",
    "            plot.ylabel(ylabel)\n",
    "            plot.title(title)\n",
    "        \n",
    "        elif plotType == \"pie\": #Create a pie chart using the specified dataframe\n",
    "            self.df.plot.pie(y=y, ax=axes[axis], labels=self.df[legendlabel], \n",
    "                             legend=legendIndex, autopct='%1.1f%%')\n",
    "            axes[axis].yaxis.set_label_text(ylabel)\n",
    "            axes[axis].set_title(title)      \n",
    "    \n",
    "    #This method is used to create stacked bar plots\n",
    "    def stackedPlot(self, columns, rowAxis, colAxis, xlabel=None, ylabel=None, title=None, rotation=None):\n",
    "        self.df[columns].plot(kind=\"bar\", stacked=True, ax=axes[rowAxis,colAxis], rot=rotation)\n",
    "        axes[rowAxis,colAxis].xaxis.set_label_text(xlabel)\n",
    "        axes[rowAxis,colAxis].yaxis.set_label_text(ylabel)\n",
    "        axes[rowAxis,colAxis].set_title(title)"
   ]
  },
  {
   "cell_type": "code",
   "execution_count": null,
   "metadata": {},
   "outputs": [],
   "source": [
    "#Create an instance\n",
    "user1 = Data()\n",
    "\n",
    "#Run the userStates() method to make sure the user inputs a valid list\n",
    "user1.userStates()"
   ]
  },
  {
   "cell_type": "code",
   "execution_count": null,
   "metadata": {},
   "outputs": [],
   "source": [
    "#Create an empty list to append df_merged information we want to plot later\n",
    "dummyList = []\n",
    "\n",
    "#Create empty dataframes to append data from df_merged and COVID, respectively, based on user input\n",
    "userMerged = Data(False) #Create an instance to pass through plotting methods later\n",
    "userCOVID = Data(False)\n",
    "i = Data(False) #Create an instance to pass through the userPlot() method\n",
    "\n",
    "#Create the figure and set the axes for plotting the COVID data\n",
    "fig, axes = plot.subplots(4, sharex=True, sharey=False, gridspec_kw={'hspace': 0}, figsize=(10,10))\n",
    "\n",
    "#Iterate over every state from the user input\n",
    "for state in userList:\n",
    "    #Append a nested list of every state's information based on the user input\n",
    "    dummyList.append(df_merged.loc[state].values[0:(len(df_merged.columns)+1)])\n",
    "    #Creates a dummy dataframe based on each state\n",
    "    i.df = covid.loc[covid['stateCode'] == state]\n",
    "    #Plot the desired data with the userPlot method\n",
    "    i.userPlot('line', \"COVID-19 Plots by State\", 'positive', \"Cum. COVID-19 Cases\", \n",
    "               True, x='date', xlabel=\"\", axis=0, legendlabel='State')\n",
    "    i.userPlot('line', \"\", 'death',\"Cum. COVID-19 Deaths\", False, x='date', \n",
    "               xlabel=\"\", axis=1, legendlabel='State')\n",
    "    i.userPlot('line', \"\", 'totalTestResults',\"Cum. People Tested\", False, x='date', \n",
    "               xlabel=\"\", axis=2, legendlabel='State')\n",
    "    i.userPlot('line', \"\", 'positiveIncrease',\"Daily COVID-19 Cases\", False, x='date', \n",
    "               xlabel=\"Date\", axis=3, legendlabel='State')\n",
    "    #Append the dummy dataframe to our userCOVID dataframe for every iteration of state\n",
    "    userCOVID.df = userCOVID.df.append(i.df)\n",
    "\n",
    "#Update the userMerged dataframe based on the dummyList of state's information\n",
    "userMerged.df = pd.DataFrame(dummyList, columns = df_merged.columns).sort_values(by=['State'], ascending=True)\n",
    "\n",
    "#Print results\n",
    "print('Below is each state\\'s political affiliation based on your input. \\n')\n",
    "print(userMerged.df[['State', 'govAffiliation', 'govName']].to_string(index=False))"
   ]
  },
  {
   "cell_type": "code",
   "execution_count": null,
   "metadata": {},
   "outputs": [],
   "source": [
    "#Data wrangling on user input\n",
    "\n",
    "#Overwrite the userCOVID dataframe to include only the max death, number of tests, and positive case values. \n",
    "#The values are cumulative so the max will correspond to the most recent date\n",
    "userCOVID.df = pd.concat([userCOVID.df.groupby(['State'])['death'].max(), \n",
    "                          userCOVID.df.groupby(['State'])['positive'].max(),\n",
    "                          userCOVID.df.groupby(['State'])['totalTestResults'].max()], \n",
    "                         axis=1)\n",
    "\n",
    "#Calculate death percentage in people testing positive for COVID-19\n",
    "userCOVID.df['deathPct'] = userCOVID.df['death'] / userCOVID.df['positive'] *100\n",
    "\n",
    "#Calculate positive test percentage in people getting tested\n",
    "userCOVID.df['posPct'] = userCOVID.df['positive'] / userCOVID.df['totalTestResults'] *100"
   ]
  },
  {
   "cell_type": "code",
   "execution_count": null,
   "metadata": {},
   "outputs": [],
   "source": [
    "#Plot total COVID-19 metrics for the user input states\n",
    "\n",
    "#Set figure and build subplots\n",
    "fig, axes = plot.subplots(2, 2, figsize=(20,10))\n",
    "fig.tight_layout(pad=10.0)\n",
    "\n",
    "#Plot COVID-19 totals for the user input states using the stackedPlot method\n",
    "userCOVID.stackedPlot([\"positive\",\"totalTestResults\"],0,0, xlabel=\"\", ylabel=\"Number of People\", \n",
    "                      title=\"Positive COVID-19 Cases and Total Tests by State\", rotation=45)\n",
    "userCOVID.stackedPlot([\"posPct\"], 1, 0, xlabel=\"State\", ylabel=\"Positive Tests (%)\", \n",
    "                      title=\"Positive Test Rate from People Tested\", rotation=45)\n",
    "userCOVID.stackedPlot([\"death\", \"positive\"], 0, 1, xlabel=\"\", ylabel=\"Number of People\", \n",
    "                      title=\"Deaths and Positive COVID-19 Cases by State\", rotation=45)\n",
    "userCOVID.stackedPlot([\"deathPct\"], 1, 1, xlabel=\"State\", ylabel=\"Deaths (%)\", \n",
    "                      title=\"Death Rate Based on Positive COVID-19 Cases\", rotation=45)\n",
    "\n",
    "#Reformat the dataframe column values to look nicer when printed\n",
    "format_dict = {'death':'{:,.0f}', 'positive':'{:,.0f}', 'totalTestResults':'{:,.0f}', \n",
    "               'deathPct':'{:.2f}%', 'posPct':'{:.2f}%'}\n",
    "for key, value in format_dict.items():\n",
    "    userCOVID.df[key] = userCOVID.df[key].apply(value.format)\n",
    "    \n",
    "#Print the table of data that are being plotted\n",
    "print(userCOVID.df)\n",
    "print(\"\\n\")"
   ]
  },
  {
   "cell_type": "code",
   "execution_count": null,
   "metadata": {},
   "outputs": [],
   "source": [
    "#Plot HHS spending metrics for the user input states\n",
    "\n",
    "#Create a bar plot for HHS funding by state\n",
    "userMerged.userPlot(\"bar\", \"HHS Funding Received by State\", 'Amount', \n",
    "                    \"Funding Received ($)\", False, x='State', xlabel=\"State\", \n",
    "                    rotation=45, size=(10,5))\n",
    "\n",
    "#Set figure and build subplots\n",
    "fig, axes = plot.subplots(1,2, figsize=(10,10))\n",
    "fig.tight_layout(pad=5.0)\n",
    "\n",
    "#Create pie charts for HHS funding by state and fundering per capita by state\n",
    "userMerged.userPlot(\"pie\", \"Total HHS Funding Received by State ($)\", 'Amount', \"\", \n",
    "                    False, axis=0, legendlabel='State')\n",
    "userMerged.userPlot(\"pie\", \"Total HHS Funding per Capita Received by State ($/person)\", \n",
    "                    'perCap', \"\", False, axis=1, legendlabel='State')"
   ]
  },
  {
   "cell_type": "code",
   "execution_count": null,
   "metadata": {},
   "outputs": [],
   "source": [
    "#Reformat the dataframe column values to look nicer when printed\n",
    "userMerged.df['population2019'] = userMerged.df['population2019'].map('{:,.0f}'.format)\n",
    "userMerged.df['Amount'] = userMerged.df['Amount'].map('${:,.0f}'.format)\n",
    "userMerged.df['perCap'] = userMerged.df['perCap'].map('${:,.2f}'.format)"
   ]
  },
  {
   "cell_type": "code",
   "execution_count": null,
   "metadata": {},
   "outputs": [],
   "source": [
    "#Print the table that is associated with the figures plotted above\n",
    "print(userMerged.df[[\"govAffiliation\", \"govName\", \"State\", \"population2019\", \n",
    "                     \"Amount\", \"perCap\"]].to_string(index=False))"
   ]
  },
  {
   "cell_type": "markdown",
   "metadata": {},
   "source": [
    "### 4. Breakdown of HHS Spending"
   ]
  },
  {
   "cell_type": "markdown",
   "metadata": {},
   "source": [
    "Data Decription:  The data in this section lists awards made by HHS (from February 2020 to June 2020) using emergency supplemental appropriation funding provided in the Coronavirus Preparedness and Response Supplemental Appropriations Act, 2020,the Families First Coronavirus Response Act, the CARES Act (Coronavirus Aid, Relief, and Economic Security Act), and the Paycheck Protection Program and Health Care Enhancement Act. \n",
    "\n",
    "Data Variables:\n",
    "\n",
    "Number = The Catalog of Federal Domestic Assistance (CFDA) Number\n",
    "\n",
    "Title = The title of the HHS Government Program\n",
    "\n",
    "Name = The recipient of the government funds who provides COVID19 related Services\n",
    "\n",
    "State = The State or U.S. Territory that received HHS COVID19 funding.\n",
    "\n",
    "Amount = The Award Amount in dollars."
   ]
  },
  {
   "cell_type": "code",
   "execution_count": null,
   "metadata": {},
   "outputs": [],
   "source": [
    "#Merge the spendingHHS and abbreviations dataframes so we eliminate data from US territories\n",
    "spendingHHS = pd.merge(left=abbreviations, right=spendingHHS, left_on='stateCode', right_on='stateCode')"
   ]
  },
  {
   "cell_type": "code",
   "execution_count": null,
   "metadata": {},
   "outputs": [],
   "source": [
    "#Query 1:  What is the total amount of HHS health spending through June 30, 2020?\n",
    "spendingHHS.Amount.sum()"
   ]
  },
  {
   "cell_type": "code",
   "execution_count": null,
   "metadata": {},
   "outputs": [],
   "source": [
    "#Query 2:  What is the total amount of health spending by state through June 30, 2020?\n",
    "spendingHHS.groupby('State').Amount.sum()"
   ]
  },
  {
   "cell_type": "code",
   "execution_count": null,
   "metadata": {},
   "outputs": [],
   "source": [
    "#Query 3:  What is the total amount of health spending by a given state?\n",
    "spendingHHS.loc[spendingHHS['stateCode'] == 'VA'].Amount.sum()"
   ]
  },
  {
   "cell_type": "code",
   "execution_count": null,
   "metadata": {},
   "outputs": [],
   "source": [
    "#Show the full dataframe\n",
    "pd.set_option(\"display.max_rows\", None, \"display.max_columns\", None)\n",
    "\n",
    "#Query 4: For each State and Program Title, what is the total amount of VA, NY, VT, TX, and CA spending?\n",
    "stateSpending = (spendingHHS.loc[(spendingHHS['stateCode'] == 'VA') | (spendingHHS['stateCode'] == 'NY') | \n",
    "                                (spendingHHS['stateCode'] == 'VT') | (spendingHHS['stateCode'] == 'TX') | \n",
    "                                (spendingHHS['stateCode'] == 'CA')]\n",
    "                 .groupby(['stateCode', 'Title'])\n",
    "                 .Amount.sum()\n",
    "                 .to_frame()\n",
    "                 .sort_values(by=['stateCode','Amount'], ascending=[True, False]))\n",
    "stateSpending"
   ]
  },
  {
   "cell_type": "markdown",
   "metadata": {},
   "source": [
    "### 5. Treemap Visuals of HHS Spending\n",
    "\n",
    "Resource/Source: Ryan Noonan, Python Treemaps, https://www.youtube.com/watch?v=eiq__4mg00o&t=393s\n",
    "\n",
    "Spending Treemap charts were developed to representing data in the form of rectangles. The area or size of each rectangle corresponds to its numerical value."
   ]
  },
  {
   "cell_type": "code",
   "execution_count": null,
   "metadata": {},
   "outputs": [],
   "source": [
    "#Sort Program by Total Amount\n",
    "Total_Amount_by_Program = (spendingHHS.groupby('Title')['Amount']\n",
    "                      .sum()\n",
    "                      .sort_values(ascending=False)\n",
    "                      .reset_index(name='Amount'))\n",
    "\n",
    "# Create a dataframe to include only award amounts greater than 100000000\n",
    "Total_Amount_by_Program = Total_Amount_by_Program[Total_Amount_by_Program['Amount'] > 100000000]"
   ]
  },
  {
   "cell_type": "code",
   "execution_count": null,
   "metadata": {},
   "outputs": [],
   "source": [
    "#Create a list of unique programs\n",
    "Program = Total_Amount_by_Program.Title.unique()"
   ]
  },
  {
   "cell_type": "code",
   "execution_count": null,
   "metadata": {},
   "outputs": [],
   "source": [
    "#Create Treemap settings, colors correspond to Program\n",
    "custom_style = Style(legend_font_size=5)\n",
    "\n",
    "Program_treemap = pygal.Treemap(width=300, height=300, style=custom_style, legend_at_bottom=True)\n",
    "Program_treemap.title = 'COVID19 Spending - Total USA Amounts by HHS Program'\n",
    "\n",
    "# Create a for loop for each of the Program types matching Program in the Program list variable, show total Amount\n",
    "for i in Program:\n",
    "    Program_treemap.add(i, Total_Amount_by_Program[Total_Amount_by_Program.Title == i]['Amount'])\n",
    "#Display Treemap\n",
    "Program_treemap"
   ]
  },
  {
   "cell_type": "code",
   "execution_count": null,
   "metadata": {},
   "outputs": [],
   "source": [
    "#Reset index\n",
    "stateSpending = stateSpending.reset_index()"
   ]
  },
  {
   "cell_type": "code",
   "execution_count": null,
   "metadata": {},
   "outputs": [],
   "source": [
    "# Create a dataframe to include only award amounts greater than 10000000\n",
    "stateSpending = stateSpending[stateSpending['Amount'] > 10000000]"
   ]
  },
  {
   "cell_type": "code",
   "execution_count": null,
   "metadata": {},
   "outputs": [],
   "source": [
    "#Create treemap for VA spending\n",
    "VA_Program = stateSpending.loc[stateSpending['stateCode'] == 'VA'].Title.unique()\n",
    "\n",
    "custom_style = Style(legend_font_size=5)\n",
    "VA_Program_treemap = pygal.Treemap(width=300, height=300, style=custom_style, legend_at_bottom=True)\n",
    "VA_Program_treemap.title = 'COVID19 Spending - Total VA Amounts by HHS Program'\n",
    "\n",
    "for j in VA_Program:\n",
    "    VA_Program_treemap.add(j, stateSpending[stateSpending.Title == j]['Amount'].sum()) \n",
    "\n",
    "VA_Program_treemap"
   ]
  },
  {
   "cell_type": "code",
   "execution_count": null,
   "metadata": {},
   "outputs": [],
   "source": [
    "#Create treemap for NY\n",
    "NY_Program = stateSpending.loc[stateSpending['stateCode'] == 'NY'].Title\n",
    "\n",
    "custom_style = Style(legend_font_size=5)\n",
    "NY_Program_treemap = pygal.Treemap(width=300, height=300, style=custom_style, legend_at_bottom=True)\n",
    "NY_Program_treemap.title = 'COVID19 Spending - Total NY Amounts by HHS Program'\n",
    "\n",
    "for j in NY_Program:\n",
    "    NY_Program_treemap.add(j, stateSpending[stateSpending.Title == j]['Amount'].sum()) \n",
    "    \n",
    "NY_Program_treemap"
   ]
  },
  {
   "cell_type": "code",
   "execution_count": null,
   "metadata": {},
   "outputs": [],
   "source": [
    "#Create treemap for VT\n",
    "VT_Program = stateSpending.loc[stateSpending['stateCode'] == 'VT'].Title\n",
    "\n",
    "custom_style = Style(legend_font_size=5)\n",
    "VT_Program_treemap = pygal.Treemap(width=300, height=300, style=custom_style, legend_at_bottom=True)\n",
    "VT_Program_treemap.title = 'COVID19 Spending - Total VT Amounts by HHS Program'\n",
    "\n",
    "for j in VT_Program:\n",
    "    VT_Program_treemap.add(j, stateSpending[stateSpending.Title == j]['Amount'].sum()) \n",
    "    \n",
    "VT_Program_treemap"
   ]
  },
  {
   "cell_type": "code",
   "execution_count": null,
   "metadata": {},
   "outputs": [],
   "source": [
    "#Create treemap for TX\n",
    "TX_Program = stateSpending.loc[stateSpending['stateCode'] == 'TX'].Title\n",
    "\n",
    "custom_style = Style(legend_font_size=5)\n",
    "TX_Program_treemap = pygal.Treemap(width=300, height=300, style=custom_style, legend_at_bottom=True)\n",
    "TX_Program_treemap.title = 'COVID19 Spending - Total TX Amounts by HHS Program'\n",
    "\n",
    "for j in TX_Program:\n",
    "    TX_Program_treemap.add(j, stateSpending[stateSpending.Title == j]['Amount'].sum()) \n",
    "    \n",
    "TX_Program_treemap"
   ]
  },
  {
   "cell_type": "code",
   "execution_count": null,
   "metadata": {},
   "outputs": [],
   "source": [
    "#Create treemap for CA\n",
    "CA_Program = stateSpending.loc[stateSpending['stateCode'] == 'CA'].Title\n",
    "\n",
    "custom_style = Style(legend_font_size=5)\n",
    "CA_Program_treemap = pygal.Treemap(width=300, height=300, style=custom_style, legend_at_bottom=True)\n",
    "CA_Program_treemap.title = 'COVID19 Spending - Total CA Amounts by HHS Program'\n",
    "\n",
    "for j in CA_Program:\n",
    "    CA_Program_treemap.add(j, stateSpending[stateSpending.Title == j]['Amount'].sum()) \n",
    "    \n",
    "CA_Program_treemap"
   ]
  }
 ],
 "metadata": {
  "kernelspec": {
   "display_name": "Python 3",
   "language": "python",
   "name": "python3"
  },
  "language_info": {
   "codemirror_mode": {
    "name": "ipython",
    "version": 3
   },
   "file_extension": ".py",
   "mimetype": "text/x-python",
   "name": "python",
   "nbconvert_exporter": "python",
   "pygments_lexer": "ipython3",
   "version": "3.7.6"
  }
 },
 "nbformat": 4,
 "nbformat_minor": 4
}
