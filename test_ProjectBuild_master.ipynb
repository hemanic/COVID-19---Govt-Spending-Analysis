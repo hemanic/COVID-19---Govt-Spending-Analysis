{
 "cells": [
  {
   "cell_type": "markdown",
   "metadata": {},
   "source": [
    "## CS 5010 Final Project\n",
    "\n",
    "Unit testing script\n",
    "\n",
    "Date: 7 August 2020\n",
    "\n",
    "Project members: \n",
    "\n",
    "Aubrey Brockmiller (alb3cb)\n",
    "\n",
    "Hemani Choksi (hc8nd)\n",
    "\n",
    "Bryan DeMarcy (bd2qn)\n",
    "\n",
    "Mike Wetklow (mw8hu)\n",
    "\n",
    "The very last line of this script was taken from https://medium.com/@vladbezden/using-python-unittest-in-ipython-or-jupyter-732448724e31 and is necessary for unit testing in Jupyter notebooks."
   ]
  },
  {
   "cell_type": "code",
   "execution_count": null,
   "metadata": {},
   "outputs": [],
   "source": [
    "##Note: You will have to run this cell twice before running the unit test. We aren't sure why, but Sudeepti said it is alright.\n",
    "#Also, this will run our entire script so it can load the functions. You do not need to type anything when prompted for user input, it will not affect the unit test anyway.\n",
    "\n",
    "import import_ipynb\n",
    "from ProjectBuild_master import *"
   ]
  },
  {
   "cell_type": "code",
   "execution_count": null,
   "metadata": {},
   "outputs": [],
   "source": [
    "import unittest\n",
    "\n",
    "class StatesTestCase(unittest.TestCase): # inherit from unittest.TestCase\n",
    "    # Unit testing userStates method in ProjectBuild_master.ipynb\n",
    "    \n",
    "    def test_is_userStates_working_correctly(self):\n",
    "        #Is the user inputting valid state abbreviations?\n",
    "        \n",
    "        #Valid inputs\n",
    "        testUser1 = Data(\"all\") #If 'all' is input, the code will run using all states\n",
    "        self.assertEqual(testUser1.states,\"all\") #Test that self.states is \"all\"\n",
    "        \n",
    "        testUser2 = Data(\"VA\")\n",
    "        self.assertIn(testUser2.states,df_merged.index.values.tolist()) #Test that VA is an acceptable abbreviation\n",
    "        \n",
    "        testUser3 = Data([\"VA\", \"SC\"]) \n",
    "        self.assertIn(\"VA\", testUser3.states) #Test that VA is in the list\n",
    "        self.assertIn(\"SC\", testUser3.states) #Test that SC is in the list\n",
    "        i = 0\n",
    "        while i < len(testUser3.states): #Test that every element in the list is an acceptable abbreviation\n",
    "            self.assertIn(testUser3.states[i], df_merged.index.values.tolist()) \n",
    "            i+=1\n",
    "        \n",
    "        testUser4 = Data(False) #Creates an empty dataframe as the instance\n",
    "        self.assertFalse(testUser4.states) #Test that self.states is read as False\n",
    "        \n",
    "        \n",
    "        #Invalid inputs       \n",
    "        testUser5 = Data(\"idk\") #This should raise an error message with a list of acceptable inputs\n",
    "        self.assertNotIn(testUser5.states, df_merged.index.values.tolist()) #Test that \"idk\" is not a state abbreviation\n",
    "        \n",
    "        testUser6 = Data(\"\") #This should raise an error message with a list of acceptable inputs\n",
    "        self.assertTrue(testUser6.df.empty) #Test that an empty dataframe is created\n",
    "        self.assertFalse(testUser6.states) #Test if the list is empty\n",
    "        \n",
    "if __name__ == '__main__':\n",
    "    unittest.main(argv=['first-arg-is-ignored'], exit=False)    "
   ]
  }
 ],
 "metadata": {
  "kernelspec": {
   "display_name": "Python 3",
   "language": "python",
   "name": "python3"
  },
  "language_info": {
   "codemirror_mode": {
    "name": "ipython",
    "version": 3
   },
   "file_extension": ".py",
   "mimetype": "text/x-python",
   "name": "python",
   "nbconvert_exporter": "python",
   "pygments_lexer": "ipython3",
   "version": "3.7.6"
  }
 },
 "nbformat": 4,
 "nbformat_minor": 4
}
